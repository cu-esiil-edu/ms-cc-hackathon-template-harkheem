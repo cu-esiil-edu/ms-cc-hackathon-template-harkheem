{
 "cells": [
  {
   "cell_type": "markdown",
   "id": "5120feb1",
   "metadata": {},
   "source": [
    "# 🌱 Intro to Python: Carbon Footprint Edition\n",
    "\n",
    "Welcome to your first Python lesson! In this notebook, we’ll explore Python basics while thinking about real-world data related to **carbon footprints** 🌍💨.\"\n",
    "\n",
    "***"
   ]
  },
  {
   "cell_type": "markdown",
   "id": "1e5d0c6f",
   "metadata": {},
   "source": [
    "## 🔤 Python Variables\n",
    "Variables store information. Let’s store the average carbon footprint (in metric tons of CO₂ per year) for individuals in different countries."
   ]
  },
  {
   "cell_type": "code",
   "execution_count": 7,
   "id": "4ddc5b6e",
   "metadata": {},
   "outputs": [
    {
     "name": "stdout",
     "output_type": "stream",
     "text": [
      "USA  16.5\n",
      "INDIA  1.9\n",
      "NIGERIA  0.7\n"
     ]
    }
   ],
   "source": [
    "# Define variable names for average individual CO2 emissions (in tons)\n",
    "usa_footprint = 16.5\n",
    "usa_footprint\n",
    "\n",
    "india_footprint = 1.9\n",
    "nigeria_footprint = 0.7\n",
    "\n",
    "# Use print() statements to report values\n",
    "print(\"USA \", usa_footprint)\n",
    "print(\"INDIA \", india_footprint)\n",
    "print(\"NIGERIA \", nigeria_footprint)\n"
   ]
  },
  {
   "cell_type": "markdown",
   "id": "7a05f34d",
   "metadata": {},
   "source": [
    "## ➕ Python Operators\n",
    "We can do math with Python. Let’s calculate the difference between footprints."
   ]
  },
  {
   "cell_type": "code",
   "execution_count": null,
   "id": "6afc7a13",
   "metadata": {},
   "outputs": [
    {
     "name": "stdout",
     "output_type": "stream",
     "text": [
      "diference is  14.6\n"
     ]
    }
   ],
   "source": [
    "#Take difference between usa and India footprints\n",
    "footprint_difference = usa_footprint - india_footprint\n",
    "print(\"difference is \", footprint_difference)"
   ]
  },
  {
   "cell_type": "code",
   "execution_count": null,
   "id": "7816e336",
   "metadata": {},
   "outputs": [
    {
     "name": "stdout",
     "output_type": "stream",
     "text": [
      "difference is  31.349999999999998\n"
     ]
    }
   ],
   "source": [
    "#multiply usa and India footprints\n",
    "footprint_difference = usa_footprint * india_footprint\n",
    "print(\"Multiplication results in  \", footprint_difference)"
   ]
  },
  {
   "cell_type": "markdown",
   "id": "4ca45818",
   "metadata": {},
   "source": [
    "You can use:\n",
    "\n",
    "+ `+` for addition\n",
    "\n",
    "+ `-` for subtraction\n",
    "\n",
    "+ `*` for multiplication\n",
    "\n",
    "+ `/` for division\n",
    "\n",
    "Let’s calculate how much CO₂ 5 people in the U.S. emit:"
   ]
  },
  {
   "cell_type": "code",
   "execution_count": 14,
   "id": "a1a239f7",
   "metadata": {},
   "outputs": [
    {
     "name": "stdout",
     "output_type": "stream",
     "text": [
      "5 average USA citizens emit  82.5  tons of CO2\n"
     ]
    }
   ],
   "source": [
    "#calculate footprint for 5 average americans\n",
    "group_usa = usa_footprint * 5\n",
    "print(\"5 average USA citizens emit \", group_usa , \" tons of CO2\")"
   ]
  },
  {
   "cell_type": "markdown",
   "id": "3a38ba31",
   "metadata": {},
   "source": [
    "## 📋 Lists in Python\n",
    "A list lets us store multiple values in one place."
   ]
  },
  {
   "cell_type": "code",
   "execution_count": null,
   "id": "cf3b2552",
   "metadata": {},
   "outputs": [],
   "source": []
  },
  {
   "cell_type": "markdown",
   "id": "d399b09e",
   "metadata": {},
   "source": [
    "We can get specific values from a list using indexing:"
   ]
  },
  {
   "cell_type": "code",
   "execution_count": null,
   "id": "466dfe58",
   "metadata": {},
   "outputs": [],
   "source": []
  },
  {
   "cell_type": "markdown",
   "id": "d33368e7",
   "metadata": {},
   "source": [
    "## 🔁 Loops\n",
    "Let’s loop through our list and print out each country’s footprint."
   ]
  },
  {
   "cell_type": "code",
   "execution_count": null,
   "id": "42e0182a",
   "metadata": {},
   "outputs": [],
   "source": []
  },
  {
   "cell_type": "code",
   "execution_count": null,
   "id": "65d49068",
   "metadata": {},
   "outputs": [],
   "source": []
  },
  {
   "cell_type": "markdown",
   "id": "34fa31ef",
   "metadata": {},
   "source": [
    "# 🧮 Functions\n",
    "Functions let us reuse code. Let’s write one that estimates a total footprint based on per-person values."
   ]
  },
  {
   "cell_type": "code",
   "execution_count": null,
   "id": "8fdd196f",
   "metadata": {},
   "outputs": [],
   "source": []
  },
  {
   "cell_type": "markdown",
   "id": "90cf2aea",
   "metadata": {},
   "source": [
    "# ✅ Challenge: Try it yourself!\n",
    "1.) Add another country to the list with its carbon footprint.\n",
    "\n",
    "2.) Write a function that tells you whether a country's footprint is low, medium, or high.\n",
    "\n",
    "3.) Use a loop to print each country’s status using your new function"
   ]
  }
 ],
 "metadata": {
  "kernelspec": {
   "display_name": "base",
   "language": "python",
   "name": "python3"
  },
  "language_info": {
   "codemirror_mode": {
    "name": "ipython",
    "version": 3
   },
   "file_extension": ".py",
   "mimetype": "text/x-python",
   "name": "python",
   "nbconvert_exporter": "python",
   "pygments_lexer": "ipython3",
   "version": "3.11.6"
  }
 },
 "nbformat": 4,
 "nbformat_minor": 5
}
